{
 "cells": [
  {
   "cell_type": "code",
   "execution_count": null,
   "metadata": {},
   "outputs": [],
   "source": [
    "import numpy as np\n",
    "import scipy.stats as st\n",
    "import pandas as pd\n",
    "import matplotlib.pyplot as plt\n",
    "import seaborn as sns"
   ]
  },
  {
   "cell_type": "code",
   "execution_count": null,
   "metadata": {},
   "outputs": [],
   "source": [
    "from sklearn.metrics import adjusted_rand_score as ars\n",
    "from sklearn.mixture import BayesianGaussianMixture as GMM_sklearn\n",
    "from vbnigmm import BayesianGaussianMixture as GMM_takekawa\n",
    "from vbnigmm import BayesianFixedNIGMixture as NIGMM_fixed\n",
    "from vbnigmm import BayesianNIGMixture as NIGMM_takekawa"
   ]
  },
  {
   "cell_type": "code",
   "execution_count": null,
   "metadata": {},
   "outputs": [],
   "source": [
    "def make_data(d, normality, asymmetry, difficulty, population, normality_prec=5, difficulty_prec=5):\n",
    "    difficulty_prec += d\n",
    "    m = len(population)\n",
    "\n",
    "    mu = st.multivariate_normal(np.zeros(d), np.eye(d)).rvs(size=m)\n",
    "    cov = difficulty ** 2 * st.wishart(difficulty_prec, np.eye(d) / difficulty_prec).rvs(size=m)\n",
    "    beta = asymmetry * np.array([st.multivariate_normal(np.zeros(d), c).rvs() for c in cov])\n",
    "    lmd = st.invgauss(1 / normality_prec, 0, normality * normality_prec).rvs(size=m)\n",
    "\n",
    "    z = np.concatenate([np.full(n, i) for i, n in enumerate(population)])\n",
    "    y = st.invgauss(1/lmd[z], 0, lmd[z]).rvs()\n",
    "    x = np.array([st.multivariate_normal(m, s).rvs() for m, s in zip(mu[z]+y[:,None]*beta[z], y[:,None,None] * cov[z])])\n",
    "    return pd.DataFrame(dict(x=x[:, 0], y=x[:, 1], z=x[:, 2], cluster=z+1))"
   ]
  },
  {
   "cell_type": "code",
   "execution_count": null,
   "metadata": {},
   "outputs": [],
   "source": [
    "data = make_data(d=3, normality=0.3, asymmetry=0.5, difficulty=0.2, population=[100] * 10)\n",
    "sns.pairplot(data, hue='cluster', markers='.', palette='prism')\n",
    "plt.show()"
   ]
  },
  {
   "cell_type": "code",
   "execution_count": null,
   "metadata": {},
   "outputs": [],
   "source": [
    "x = np.array(data[['x','y','z']])\n",
    "y_true = np.array(data['cluster'])"
   ]
  },
  {
   "cell_type": "code",
   "execution_count": null,
   "metadata": {},
   "outputs": [],
   "source": [
    "model = GMM_sklearn(50, n_init=3)\n",
    "model.fit(x)\n",
    "y_est = model.predict(x)\n",
    "ars(y_true, y_est)"
   ]
  },
  {
   "cell_type": "code",
   "execution_count": null,
   "metadata": {},
   "outputs": [],
   "source": [
    "model = GMM_takekawa(progress=1, num_try=3)\n",
    "%time model.fit(x)\n",
    "y_est = model.predict(x)\n",
    "ars(y_true, y_est)"
   ]
  },
  {
   "cell_type": "code",
   "execution_count": null,
   "metadata": {},
   "outputs": [],
   "source": [
    "model = NIGMM_fixed(progress=1, num_try=3)\n",
    "%time model.fit(x)\n",
    "y_est = model.predict(x)\n",
    "ars(y_true, y_est)"
   ]
  },
  {
   "cell_type": "code",
   "execution_count": null,
   "metadata": {},
   "outputs": [],
   "source": [
    "model = NIGMM_takekawa(concentration_prior_type='dd', normality_prior_type='gamma', progress=1, num_try=3)\n",
    "%time model.fit(x)\n",
    "y_est = model.predict(x)\n",
    "ars(y_true, y_est)"
   ]
  },
  {
   "cell_type": "code",
   "execution_count": null,
   "metadata": {},
   "outputs": [],
   "source": [
    "model = NIGMM_takekawa(normality_prior_type='gamma', progress=1, num_try=3)\n",
    "%time model.fit(x)\n",
    "y_est = model.predict(x)\n",
    "ars(y_true, y_est)"
   ]
  },
  {
   "cell_type": "code",
   "execution_count": null,
   "metadata": {},
   "outputs": [],
   "source": [
    "model = NIGMM_takekawa(concentration_prior_type='dd', progress=1, num_try=3)\n",
    "%time model.fit(x)\n",
    "y_est = model.predict(x)\n",
    "ars(y_true, y_est)"
   ]
  },
  {
   "cell_type": "code",
   "execution_count": null,
   "metadata": {},
   "outputs": [],
   "source": [
    "model = NIGMM_takekawa(init_n=20, progress=1, num_try=3)\n",
    "%time model.fit(x)\n",
    "y_est = model.predict(x)\n",
    "ars(y_true, y_est)"
   ]
  }
 ],
 "metadata": {
  "kernelspec": {
   "display_name": "Python 3",
   "language": "python",
   "name": "python3"
  },
  "language_info": {
   "codemirror_mode": {
    "name": "ipython",
    "version": 3
   },
   "file_extension": ".py",
   "mimetype": "text/x-python",
   "name": "python",
   "nbconvert_exporter": "python",
   "pygments_lexer": "ipython3",
   "version": "3.8.5"
  }
 },
 "nbformat": 4,
 "nbformat_minor": 4
}
